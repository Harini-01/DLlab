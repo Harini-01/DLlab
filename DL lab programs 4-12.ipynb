{
 "cells": [
  {
   "cell_type": "markdown",
   "id": "05634409-02ec-4285-acc6-9cf27bb53315",
   "metadata": {},
   "source": [
    "Lab 4"
   ]
  },
  {
   "cell_type": "code",
   "execution_count": 1,
   "id": "03aa009d-4343-40cd-9759-69fb5f6021d1",
   "metadata": {},
   "outputs": [
    {
     "name": "stderr",
     "output_type": "stream",
     "text": [
      "C:\\Users\\Harini N\\AppData\\Local\\Programs\\Python\\Python311\\Lib\\site-packages\\tqdm\\auto.py:21: TqdmWarning: IProgress not found. Please update jupyter and ipywidgets. See https://ipywidgets.readthedocs.io/en/stable/user_install.html\n",
      "  from .autonotebook import tqdm as notebook_tqdm\n"
     ]
    },
    {
     "name": "stdout",
     "output_type": "stream",
     "text": [
      "Downloading http://yann.lecun.com/exdb/mnist/train-images-idx3-ubyte.gz\n",
      "Failed to download (trying next):\n",
      "HTTP Error 404: Not Found\n",
      "\n",
      "Downloading https://ossci-datasets.s3.amazonaws.com/mnist/train-images-idx3-ubyte.gz\n",
      "Downloading https://ossci-datasets.s3.amazonaws.com/mnist/train-images-idx3-ubyte.gz to ./data\\MNIST\\raw\\train-images-idx3-ubyte.gz\n"
     ]
    },
    {
     "name": "stderr",
     "output_type": "stream",
     "text": [
      "100%|████████████████████████████████████████████████████████████████████| 9912422/9912422 [00:20<00:00, 493842.45it/s]\n"
     ]
    },
    {
     "name": "stdout",
     "output_type": "stream",
     "text": [
      "Extracting ./data\\MNIST\\raw\\train-images-idx3-ubyte.gz to ./data\\MNIST\\raw\n",
      "\n",
      "Downloading http://yann.lecun.com/exdb/mnist/train-labels-idx1-ubyte.gz\n",
      "Failed to download (trying next):\n",
      "HTTP Error 404: Not Found\n",
      "\n",
      "Downloading https://ossci-datasets.s3.amazonaws.com/mnist/train-labels-idx1-ubyte.gz\n",
      "Downloading https://ossci-datasets.s3.amazonaws.com/mnist/train-labels-idx1-ubyte.gz to ./data\\MNIST\\raw\\train-labels-idx1-ubyte.gz\n"
     ]
    },
    {
     "name": "stderr",
     "output_type": "stream",
     "text": [
      "100%|█████████████████████████████████████████████████████████████████████████| 28881/28881 [00:00<00:00, 54717.09it/s]\n"
     ]
    },
    {
     "name": "stdout",
     "output_type": "stream",
     "text": [
      "Extracting ./data\\MNIST\\raw\\train-labels-idx1-ubyte.gz to ./data\\MNIST\\raw\n",
      "\n",
      "Downloading http://yann.lecun.com/exdb/mnist/t10k-images-idx3-ubyte.gz\n",
      "Failed to download (trying next):\n",
      "HTTP Error 404: Not Found\n",
      "\n",
      "Downloading https://ossci-datasets.s3.amazonaws.com/mnist/t10k-images-idx3-ubyte.gz\n",
      "Downloading https://ossci-datasets.s3.amazonaws.com/mnist/t10k-images-idx3-ubyte.gz to ./data\\MNIST\\raw\\t10k-images-idx3-ubyte.gz\n"
     ]
    },
    {
     "name": "stderr",
     "output_type": "stream",
     "text": [
      "100%|████████████████████████████████████████████████████████████████████| 1648877/1648877 [00:01<00:00, 993139.59it/s]\n"
     ]
    },
    {
     "name": "stdout",
     "output_type": "stream",
     "text": [
      "Extracting ./data\\MNIST\\raw\\t10k-images-idx3-ubyte.gz to ./data\\MNIST\\raw\n",
      "\n",
      "Downloading http://yann.lecun.com/exdb/mnist/t10k-labels-idx1-ubyte.gz\n",
      "Failed to download (trying next):\n",
      "HTTP Error 404: Not Found\n",
      "\n",
      "Downloading https://ossci-datasets.s3.amazonaws.com/mnist/t10k-labels-idx1-ubyte.gz\n",
      "Downloading https://ossci-datasets.s3.amazonaws.com/mnist/t10k-labels-idx1-ubyte.gz to ./data\\MNIST\\raw\\t10k-labels-idx1-ubyte.gz\n"
     ]
    },
    {
     "name": "stderr",
     "output_type": "stream",
     "text": [
      "100%|██████████████████████████████████████████████████████████████████████████| 4542/4542 [00:00<00:00, 372626.48it/s]\n"
     ]
    },
    {
     "name": "stdout",
     "output_type": "stream",
     "text": [
      "Extracting ./data\\MNIST\\raw\\t10k-labels-idx1-ubyte.gz to ./data\\MNIST\\raw\n",
      "\n",
      "Accuracy without BN & Dropout: 97.69%\n",
      "Accuracy with Batch Normalization: 97.79%\n",
      "Accuracy with Dropout: 97.63%\n"
     ]
    }
   ],
   "source": [
    "import torch\n",
    "import torch.nn as nn\n",
    "import torch.optim as optim\n",
    "import torchvision\n",
    "import torchvision.transforms as transforms\n",
    "from torch.utils.data import DataLoader\n",
    "\n",
    "# Load MNIST Dataset\n",
    "transform = transforms.Compose([transforms.ToTensor()])\n",
    "train_loader = DataLoader(torchvision.datasets.MNIST('./data', train=True, download=True, transform=transform), batch_size=64, shuffle=True)\n",
    "test_loader = DataLoader(torchvision.datasets.MNIST('./data', train=False, download=True, transform=transform), batch_size=64, shuffle=False)\n",
    "\n",
    "# Define Neural Network\n",
    "class SimpleNN(nn.Module):\n",
    "    def __init__(self, use_bn=False, use_dropout=False):\n",
    "        super().__init__()\n",
    "        self.fc1 = nn.Linear(784, 256)\n",
    "        self.bn1 = nn.BatchNorm1d(256) if use_bn else nn.Identity()\n",
    "        self.dropout1 = nn.Dropout(0.5) if use_dropout else nn.Identity()\n",
    "        self.fc2 = nn.Linear(256, 10)\n",
    "\n",
    "    def forward(self, x):\n",
    "        x = x.view(-1, 784)\n",
    "        x = torch.relu(self.bn1(self.fc1(x)))\n",
    "        return self.fc2(self.dropout1(x))\n",
    "\n",
    "def train_and_evaluate(model, epochs=5):\n",
    "    optimizer = optim.Adam(model.parameters(), lr=0.001)\n",
    "    criterion = nn.CrossEntropyLoss()\n",
    "    \n",
    "    # Training\n",
    "    model.train()\n",
    "    for epoch in range(epochs):\n",
    "        for images, labels in train_loader:\n",
    "            optimizer.zero_grad()\n",
    "            criterion(model(images), labels).backward()\n",
    "            optimizer.step()\n",
    "    \n",
    "    # Evaluation\n",
    "    model.eval()\n",
    "    correct = total = 0\n",
    "    with torch.no_grad():\n",
    "        for images, labels in test_loader:\n",
    "            _, predicted = torch.max(model(images), 1)\n",
    "            correct += (predicted == labels).sum().item()\n",
    "            total += labels.size(0)\n",
    "    \n",
    "    return 100 * correct / total\n",
    "\n",
    "# Train and evaluate all models\n",
    "models = [SimpleNN(), SimpleNN(use_bn=True), SimpleNN(use_dropout=True)]\n",
    "labels = [\"without BN & Dropout\", \"with Batch Normalization\", \"with Dropout\"]\n",
    "\n",
    "for model, label in zip(models, labels):\n",
    "    accuracy = train_and_evaluate(model)\n",
    "    print(f\"Accuracy {label}: {accuracy:.2f}%\")\n"
   ]
  },
  {
   "cell_type": "markdown",
   "id": "446aa34a-a964-43a8-b711-dae7b37fd419",
   "metadata": {},
   "source": [
    "Lab 5"
   ]
  },
  {
   "cell_type": "code",
   "execution_count": 27,
   "id": "412d1b6c-9862-49a9-be50-68e812393c78",
   "metadata": {},
   "outputs": [
    {
     "name": "stdout",
     "output_type": "stream",
     "text": [
      "Files already downloaded and verified\n",
      "Files already downloaded and verified\n",
      "\n",
      "Training with SGD Optimizer:\n",
      "Epoch 1: Train Loss: 1.5125, Test Loss: 1.1984, Accuracy: 57.31%\n",
      "Epoch 2: Train Loss: 1.0616, Test Loss: 1.0091, Accuracy: 64.89%\n",
      "Epoch 3: Train Loss: 0.8682, Test Loss: 0.8776, Accuracy: 69.54%\n",
      "Epoch 4: Train Loss: 0.7326, Test Loss: 0.8709, Accuracy: 69.51%\n",
      "Epoch 5: Train Loss: 0.6226, Test Loss: 0.8329, Accuracy: 72.18%\n",
      "\n",
      "Training with Adam Optimizer:\n",
      "Epoch 1: Train Loss: 1.3425, Test Loss: 1.0797, Accuracy: 61.01%\n",
      "Epoch 2: Train Loss: 0.9706, Test Loss: 0.9146, Accuracy: 67.96%\n",
      "Epoch 3: Train Loss: 0.8043, Test Loss: 0.8565, Accuracy: 70.02%\n",
      "Epoch 4: Train Loss: 0.6879, Test Loss: 0.8284, Accuracy: 71.16%\n",
      "Epoch 5: Train Loss: 0.5835, Test Loss: 0.8588, Accuracy: 71.73%\n"
     ]
    },
    {
     "data": {
      "image/png": "[encoded data removed]",
      "text/plain": [
       "<Figure size 1200x500 with 2 Axes>"
      ]
     },
     "metadata": {},
     "output_type": "display_data"
    }
   ],
   "source": [
    "import torch\n",
    "import torch.nn as nn\n",
    "import torch.optim as optim\n",
    "import torchvision\n",
    "import torchvision.transforms as transforms\n",
    "from torch.utils.data import DataLoader\n",
    "import matplotlib.pyplot as plt\n",
    "\n",
    "# Load CIFAR-10 Dataset\n",
    "transform = transforms.Compose([transforms.ToTensor(), transforms.Normalize((0.5,), (0.5,))])\n",
    "train_loader = DataLoader(torchvision.datasets.CIFAR10('./data', train=True, download=True, transform=transform), batch_size=64, shuffle=True)\n",
    "test_loader = DataLoader(torchvision.datasets.CIFAR10('./data', train=False, download=True, transform=transform), batch_size=64)\n",
    "\n",
    "# Define CNN\n",
    "class SimpleCNN(nn.Module):\n",
    "    def __init__(self):\n",
    "        super().__init__()\n",
    "        self.conv1 = nn.Conv2d(3, 32, 3, padding=1)\n",
    "        self.conv2 = nn.Conv2d(32, 64, 3, padding=1)\n",
    "        self.pool = nn.MaxPool2d(2, 2)\n",
    "        self.fc1 = nn.Linear(64 * 8 * 8, 128)\n",
    "        self.fc2 = nn.Linear(128, 10)\n",
    "\n",
    "    def forward(self, x):\n",
    "        x = self.pool(torch.relu(self.conv1(x)))\n",
    "        x = self.pool(torch.relu(self.conv2(x)))\n",
    "        x = x.view(-1, 64 * 8 * 8)\n",
    "        x = torch.relu(self.fc1(x))\n",
    "        return self.fc2(x)\n",
    "\n",
    "def train_and_evaluate(model, optimizer, epochs=5):\n",
    "    criterion = nn.CrossEntropyLoss()\n",
    "    train_losses, test_losses, test_accuracies = [], [], []\n",
    "    \n",
    "    for epoch in range(epochs):\n",
    "        # Training\n",
    "        model.train()\n",
    "        train_loss = 0\n",
    "        for images, labels in train_loader:\n",
    "            optimizer.zero_grad()\n",
    "            loss = criterion(model(images), labels)\n",
    "            loss.backward()\n",
    "            optimizer.step()\n",
    "            train_loss += loss.item()\n",
    "        \n",
    "        # Testing\n",
    "        model.eval()\n",
    "        test_loss = correct = total = 0\n",
    "        with torch.no_grad():\n",
    "            for images, labels in test_loader:\n",
    "                outputs = model(images)\n",
    "                test_loss += criterion(outputs, labels).item()\n",
    "                _, predicted = torch.max(outputs, 1)\n",
    "                correct += (predicted == labels).sum().item()\n",
    "                total += labels.size(0)\n",
    "        \n",
    "        # Store metrics\n",
    "        train_losses.append(train_loss / len(train_loader))\n",
    "        test_losses.append(test_loss / len(test_loader))\n",
    "        accuracy = 100 * correct / total\n",
    "        test_accuracies.append(accuracy)\n",
    "        \n",
    "        print(f\"Epoch {epoch+1}: Train Loss: {train_losses[-1]:.4f}, Test Loss: {test_losses[-1]:.4f}, Accuracy: {accuracy:.2f}%\")\n",
    "    \n",
    "    return train_losses, test_losses, test_accuracies\n",
    "\n",
    "# Train models with different optimizers\n",
    "models = [SimpleCNN(), SimpleCNN()]\n",
    "optimizers = [optim.SGD(models[0].parameters(), lr=0.01, momentum=0.9), \n",
    "              optim.Adam(models[1].parameters(), lr=0.001)]\n",
    "labels = ['SGD', 'Adam']\n",
    "\n",
    "results = []\n",
    "for model, optimizer, label in zip(models, optimizers, labels):\n",
    "    print(f\"\\nTraining with {label} Optimizer:\")\n",
    "    results.append(train_and_evaluate(model, optimizer))\n",
    "\n",
    "# Plot comparison\n",
    "epochs = range(1, 6)\n",
    "plt.figure(figsize=(12, 5))\n",
    "\n",
    "plt.subplot(1, 2, 1)\n",
    "for i, label in enumerate(labels):\n",
    "    plt.plot(epochs, results[i][0], label=f'{label} - Train')\n",
    "    plt.plot(epochs, results[i][1], label=f'{label} - Test')\n",
    "plt.xlabel('Epochs')\n",
    "plt.ylabel('Loss')\n",
    "plt.legend()\n",
    "plt.title('Loss Comparison')\n",
    "\n",
    "plt.subplot(1, 2, 2)\n",
    "for i, label in enumerate(labels):\n",
    "    plt.plot(epochs, results[i][2], label=f'{label} - Accuracy')\n",
    "plt.xlabel('Epochs')\n",
    "plt.ylabel('Accuracy (%)')\n",
    "plt.legend()\n",
    "plt.title('Accuracy Comparison')\n",
    "\n",
    "plt.show()"
   ]
  },
  {
   "cell_type": "markdown",
   "id": "1db00d06-b558-4f06-94b3-d0a505a06246",
   "metadata": {},
   "source": [
    "Lab 6"
   ]
  },
  {
   "cell_type": "code",
   "execution_count": 28,
   "id": "03acd723-959b-4a37-8aaf-e1f256d8cad8",
   "metadata": {},
   "outputs": [
    {
     "ename": "ModuleNotFoundError",
     "evalue": "No module named 'tensorflow'",
     "output_type": "error",
     "traceback": [
      "\u001b[1;31m---------------------------------------------------------------------------\u001b[0m",
      "\u001b[1;31mModuleNotFoundError\u001b[0m                       Traceback (most recent call last)",
      "Cell \u001b[1;32mIn[28], line 1\u001b[0m\n\u001b[1;32m----> 1\u001b[0m \u001b[38;5;28;01mimport\u001b[39;00m \u001b[38;5;21;01mtensorflow\u001b[39;00m \u001b[38;5;28;01mas\u001b[39;00m \u001b[38;5;21;01mtf\u001b[39;00m\n\u001b[0;32m      2\u001b[0m \u001b[38;5;28;01mfrom\u001b[39;00m \u001b[38;5;21;01mtensorflow\u001b[39;00m\u001b[38;5;21;01m.\u001b[39;00m\u001b[38;5;21;01mkeras\u001b[39;00m \u001b[38;5;28;01mimport\u001b[39;00m layers, models\n\u001b[0;32m      3\u001b[0m \u001b[38;5;28;01mfrom\u001b[39;00m \u001b[38;5;21;01mtensorflow\u001b[39;00m\u001b[38;5;21;01m.\u001b[39;00m\u001b[38;5;21;01mkeras\u001b[39;00m\u001b[38;5;21;01m.\u001b[39;00m\u001b[38;5;21;01mdatasets\u001b[39;00m \u001b[38;5;28;01mimport\u001b[39;00m mnist\n",
      "\u001b[1;31mModuleNotFoundError\u001b[0m: No module named 'tensorflow'"
     ]
    }
   ],
   "source": [
    "import tensorflow as tf\n",
    "from tensorflow.keras import layers, models\n",
    "from tensorflow.keras.datasets import mnist\n",
    "import matplotlib.pyplot as plt\n",
    "import numpy as np\n",
    "\n",
    "# Load and preprocess MNIST\n",
    "(x_train, _), (x_test, _) = mnist.load_data()\n",
    "x_train, x_test = x_train[..., None] / 255.0, x_test[..., None] / 255.0\n",
    "\n",
    "# Simulate blurry inputs\n",
    "def blur_images(images):\n",
    "    return tf.image.resize(tf.image.resize(images, (14, 14)), (28, 28))\n",
    "\n",
    "x_train_blur, x_test_blur = blur_images(x_train), blur_images(x_test)\n",
    "\n",
    "# Simple U-Net model\n",
    "def simple_unet(input_shape):\n",
    "    inputs = layers.Input(shape=input_shape)\n",
    "    x = layers.Conv2D(32, 3, activation='relu', padding='same')(inputs)\n",
    "    x = layers.MaxPooling2D()(x)\n",
    "    x = layers.Conv2D(64, 3, activation='relu', padding='same')(x)\n",
    "    x = layers.Conv2DTranspose(32, 3, strides=2, padding='same', activation='relu')(x)\n",
    "    outputs = layers.Conv2D(1, 1, activation='sigmoid')(x)\n",
    "    return models.Model(inputs, outputs)\n",
    "\n",
    "# Compile and train\n",
    "model = simple_unet((28, 28, 1))\n",
    "model.compile(optimizer='adam', loss='binary_crossentropy', metrics=['accuracy'])\n",
    "model.fit(x_train_blur, x_train, epochs=5, batch_size=64, validation_split=0.1)\n",
    "\n",
    "# Predict on test samples\n",
    "predicted = model.predict(x_test_blur[:5])\n",
    "\n",
    "# Visualization\n",
    "for i in range(5):\n",
    "    plt.figure(figsize=(8, 2))\n",
    "    for j, (title, img) in enumerate(zip(\n",
    "        [\"Blurry Input\", \"Ground Truth\", \"Predicted Mask\"],\n",
    "        [x_test_blur[i], x_test[i], predicted[i]]\n",
    "    )):\n",
    "        plt.subplot(1, 3, j + 1)\n",
    "        plt.title(title)\n",
    "        plt.imshow(np.squeeze(img), cmap='gray')\n",
    "        plt.axis('off')\n",
    "    plt.show()\n"
   ]
  },
  {
   "cell_type": "markdown",
   "id": "7432d87b-1e4d-4d94-ac7a-61e725171221",
   "metadata": {},
   "source": [
    "Lab 12"
   ]
  },
  {
   "cell_type": "code",
   "execution_count": 4,
   "id": "e2a4a154-bbdf-4bcb-a8a0-5bd675b6bfa3",
   "metadata": {},
   "outputs": [],
   "source": [
    "import torch\n",
    "import torch.nn as nn\n",
    "import torch.optim as optim\n",
    "from torchvision import transforms, datasets\n",
    "from torch.utils.data import DataLoader, Subset"
   ]
  },
  {
   "cell_type": "code",
   "execution_count": 6,
   "id": "b85f94d0-c52c-4eb3-aa2d-fb42a3a0bba7",
   "metadata": {},
   "outputs": [],
   "source": [
    "transform = transforms.Compose([transforms.ToTensor()])\n",
    "train_data=Subset(datasets.MNIST('./data',train= True, download = True, transform = transform), range(200))\n",
    "test_data=Subset(datasets.MNIST('./data',train= False, download = True, transform = transform), range(50))"
   ]
  },
  {
   "cell_type": "code",
   "execution_count": 8,
   "id": "6c25fd8d-dbe6-4e7a-9e11-d0da85c88081",
   "metadata": {},
   "outputs": [],
   "source": [
    "train_loader=DataLoader(train_data, shuffle = True, batch_size = 10)\n",
    "test_loader = DataLoader(test_data, batch_size = 10)"
   ]
  },
  {
   "cell_type": "code",
   "execution_count": 16,
   "id": "6bfdbfdd-9825-4bda-a566-d2bd80e14ee6",
   "metadata": {},
   "outputs": [],
   "source": [
    "class AutoEncoder(nn.Module):\n",
    "    def __init__(self):\n",
    "        super().__init__()\n",
    "        self.encoder = nn.Sequential(nn.Linear(28*28, 256), nn.ReLU(), nn.Linear(256, 64), nn.ReLU())\n",
    "        self.decoder = nn.Sequential(nn.Linear(64,256), nn.ReLU(), nn.Linear(256, 28*28), nn.Sigmoid())\n",
    "\n",
    "    def forward(self, x):\n",
    "        return self.decoder(self.encoder(x))"
   ]
  },
  {
   "cell_type": "code",
   "execution_count": 17,
   "id": "4d34aaec-8ea2-4407-8e31-f23f8c2e1169",
   "metadata": {},
   "outputs": [],
   "source": [
    "model = AutoEncoder()\n",
    "optimizer = optim.Adam(model.parameters(), lr = 0.01)\n",
    "criterion = nn.MSELoss()"
   ]
  },
  {
   "cell_type": "code",
   "execution_count": 19,
   "id": "65d169d5-4b04-4fbf-9fdf-0772865229b7",
   "metadata": {},
   "outputs": [
    {
     "name": "stdout",
     "output_type": "stream",
     "text": [
      "epoch: 1, train loss: 0.0637, test loss: 0.0595\n",
      "epoch: 2, train loss: 0.0555, test loss: 0.0548\n",
      "epoch: 3, train loss: 0.0503, test loss: 0.0519\n",
      "epoch: 4, train loss: 0.0464, test loss: 0.0495\n",
      "epoch: 5, train loss: 0.0433, test loss: 0.0480\n",
      "epoch: 6, train loss: 0.0397, test loss: 0.0452\n",
      "epoch: 7, train loss: 0.0365, test loss: 0.0444\n",
      "epoch: 8, train loss: 0.0351, test loss: 0.0430\n",
      "epoch: 9, train loss: 0.0335, test loss: 0.0443\n",
      "epoch: 10, train loss: 0.0332, test loss: 0.0458\n"
     ]
    }
   ],
   "source": [
    "for epoch in range(10):\n",
    "    model.train()\n",
    "    train_loss = 0.0\n",
    "    for img,_ in train_loader:\n",
    "        img =img.view(img.size(0), -1)\n",
    "        loss = criterion(model(img),img)\n",
    "        optimizer.zero_grad()\n",
    "        loss.backward()\n",
    "        optimizer.step()\n",
    "        train_loss+=loss.item()\n",
    "    avg_train = train_loss/len(train_loader)\n",
    "    model.eval()\n",
    "    test_loss = 0.0\n",
    "    with torch.no_grad():\n",
    "        for img,_ in test_loader:\n",
    "            img = img.view(img.size(0),-1)\n",
    "            loss = criterion(model(img),img)\n",
    "            test_loss+=loss.item()\n",
    "        avg_test = test_loss / len(test_loader)\n",
    "    print(f\"epoch: {epoch + 1}, train loss: {avg_train:.4f}, test loss: {avg_test:.4f}\")"
   ]
  },
  {
   "cell_type": "markdown",
   "id": "d9bc4404-3508-4757-8d1e-754be54f5175",
   "metadata": {},
   "source": [
    "Lab 11"
   ]
  },
  {
   "cell_type": "code",
   "execution_count": 21,
   "id": "4a978bbd-90b2-4d49-bb4a-febecf255b53",
   "metadata": {},
   "outputs": [
    {
     "name": "stdout",
     "output_type": "stream",
     "text": [
      "torch.Size([2, 10, 128])\n"
     ]
    }
   ],
   "source": [
    "import torch\n",
    "import torch.nn as nn\n",
    "\n",
    "class MultiHeadAttention(nn.Module):\n",
    "    def __init__(self, embed_size, heads):\n",
    "        super().__init__()\n",
    "        assert embed_size % heads == 0\n",
    "        self.head_dim = embed_size // heads\n",
    "        self.heads = heads\n",
    "        self.embed_size = embed_size\n",
    "        self.values = nn.Linear(embed_size, embed_size)\n",
    "        self.keys = nn.Linear(embed_size, embed_size)\n",
    "        self.queries = nn.Linear(embed_size, embed_size)\n",
    "        self.fc_out = nn.Linear(embed_size, embed_size)\n",
    "\n",
    "    def forward(self, value, key, query, mask=None):\n",
    "        N, seq_len = query.shape[0], query.shape[1]\n",
    "\n",
    "        def transform(x, proj):\n",
    "            x = proj(x)\n",
    "            return x.view(N, -1, self.heads, self.head_dim).transpose(1, 2)\n",
    "\n",
    "        V, K, Q = map(lambda x, p: transform(x, p), [value, key, query], [self.values, self.keys, self.queries])\n",
    "        energy = (Q @ K.transpose(-2, -1)) / (self.head_dim ** 0.5)\n",
    "\n",
    "        if mask is not None:\n",
    "            energy = energy.masked_fill(mask == 0, float(\"-1e20\"))\n",
    "\n",
    "        attention = torch.softmax(energy, dim=-1)\n",
    "        out = (attention @ V).transpose(1, 2).reshape(N, seq_len, self.embed_size)\n",
    "        return self.fc_out(out)\n",
    "\n",
    "# Example usage\n",
    "attention = MultiHeadAttention(embed_size=128, heads=8)\n",
    "x = torch.rand(2, 10, 128)  # (batch, seq_len, embed_dim)\n",
    "output = attention(x, x, x)\n",
    "print(output.shape)  # → torch.Size([2, 10, 128])\n"
   ]
  },
  {
   "cell_type": "markdown",
   "id": "dbc9f8f6-06ef-428c-9b7d-63bdf9fe14f0",
   "metadata": {},
   "source": [
    "Lab 10"
   ]
  },
  {
   "cell_type": "code",
   "execution_count": 23,
   "id": "86018336-c587-440d-a909-1574f6bf82cb",
   "metadata": {},
   "outputs": [
    {
     "name": "stdout",
     "output_type": "stream",
     "text": [
      "\n",
      "\n",
      "Generated Text:\n",
      "\n",
      " hello word, this is a simple tex generation using LSTMs.. t\n"
     ]
    }
   ],
   "source": [
    "import torch, torch.nn as nn, torch.optim as optim\n",
    "\n",
    "# Prepare character-level data\n",
    "text = \"hello world, this is a simple text generation using LSTMs.\"\n",
    "chars = sorted(set(text))\n",
    "\n",
    "char2idx = {c: i for i, c in enumerate(chars)}\n",
    "idx2char = {i: c for c, i in char2idx.items()}\n",
    "seq_len = 10\n",
    "\n",
    "# Create input-output sequences\n",
    "X = [[char2idx[c] for c in text[i:i+seq_len]] for i in range(len(text) - seq_len)]\n",
    "Y = [char2idx[text[i+seq_len]] for i in range(len(text) - seq_len)]\n",
    "\n",
    "X, Y = torch.tensor(X), torch.tensor(Y)\n",
    "\n",
    "# Define LSTM model\n",
    "class TextLSTM(nn.Module):\n",
    "    def __init__(self, vocab_size, embed_size, hidden_size):\n",
    "        super().__init__()\n",
    "        self.embed = nn.Embedding(vocab_size, embed_size)\n",
    "        self.lstm = nn.LSTM(embed_size, hidden_size, batch_first=True)\n",
    "        self.fc = nn.Linear(hidden_size, vocab_size)\n",
    "\n",
    "    def forward(self, x):\n",
    "        x, _ = self.lstm(self.embed(x))\n",
    "        return self.fc(x[:, -1])\n",
    "\n",
    "# Model, loss, optimizer\n",
    "vocab_size, embed_size, hidden_size = len(chars), 16, 128\n",
    "model = TextLSTM(vocab_size, embed_size, hidden_size)\n",
    "criterion = nn.CrossEntropyLoss()\n",
    "optimizer = optim.Adam(model.parameters(), lr=0.01)\n",
    "\n",
    "# Training loop\n",
    "for epoch in range(50):\n",
    "    optimizer.zero_grad()\n",
    "    loss = criterion(model(X), Y)\n",
    "    loss.backward()\n",
    "    optimizer.step()\n",
    "\n",
    "# Text generation function\n",
    "def generate(start, length=50):\n",
    "    model.eval()\n",
    "    seq = [char2idx[c] for c in start]\n",
    "    result = start\n",
    "    for _ in range(length):\n",
    "        inp = torch.tensor([seq], dtype=torch.long)\n",
    "        with torch.no_grad():\n",
    "            pred = torch.argmax(model(inp), dim=1).item()\n",
    "        result += idx2char[pred]\n",
    "        seq = seq[1:] + [pred]\n",
    "    return result\n",
    "\n",
    "# Output\n",
    "print(\"\\n\\nGenerated Text:\\n\\n\", generate(\"hello wor\", 50))\n"
   ]
  },
  {
   "cell_type": "markdown",
   "id": "91c1521a-f04b-4717-baa2-dd4edeb5e100",
   "metadata": {},
   "source": [
    "Lab 9"
   ]
  },
  {
   "cell_type": "code",
   "execution_count": 24,
   "id": "1fd2d9cf-253c-42e7-96ff-fa4fc32f8ac2",
   "metadata": {},
   "outputs": [
    {
     "name": "stdout",
     "output_type": "stream",
     "text": [
      "Epoch [1/10] Loss: 0.6799\n",
      "Epoch [2/10] Loss: 0.6710\n",
      "Epoch [3/10] Loss: 0.6623\n",
      "Epoch [4/10] Loss: 0.6537\n",
      "Epoch [5/10] Loss: 0.6452\n",
      "Epoch [6/10] Loss: 0.6369\n",
      "Epoch [7/10] Loss: 0.6286\n",
      "Epoch [8/10] Loss: 0.6204\n",
      "Epoch [9/10] Loss: 0.6123\n",
      "Epoch [10/10] Loss: 0.6042\n"
     ]
    }
   ],
   "source": [
    "import torch, torch.nn as nn, torch.optim as optim\n",
    "\n",
    "# Simple RNN model for binary classification\n",
    "class SimpleRNN(nn.Module):\n",
    "    def __init__(self, input_size, hidden_size, output_size):\n",
    "        super().__init__()\n",
    "        self.rnn = nn.RNN(input_size, hidden_size, batch_first=True)\n",
    "        self.fc = nn.Linear(hidden_size, output_size)\n",
    "\n",
    "    def forward(self, x):\n",
    "        out, _ = self.rnn(x)       # (batch, seq_len, hidden_size)\n",
    "        return self.fc(out[:, -1])  # Use last time step's output\n",
    "\n",
    "# Hyperparameters\n",
    "input_size, hidden_size, output_size = 8, 32, 1\n",
    "seq_len, batch_size = 10, 16\n",
    "\n",
    "# Random input and target\n",
    "X = torch.randn(batch_size, seq_len, input_size)\n",
    "y = torch.randint(0, 2, (batch_size, 1)).float()\n",
    "\n",
    "# Model, loss, optimizer\n",
    "model = SimpleRNN(input_size, hidden_size, output_size)\n",
    "criterion = nn.BCEWithLogitsLoss()\n",
    "optimizer = optim.Adam(model.parameters(), lr=0.001)\n",
    "\n",
    "# Training loop\n",
    "for epoch in range(10):\n",
    "    outputs = model(X)\n",
    "    loss = criterion(outputs, y)\n",
    "    optimizer.zero_grad()\n",
    "    loss.backward()\n",
    "    optimizer.step()\n",
    "    print(f\"Epoch [{epoch+1}/10] Loss: {loss.item():.4f}\")\n"
   ]
  },
  {
   "cell_type": "code",
   "execution_count": null,
   "id": "11b9f2b7-9e51-4015-9bc7-77f423a05776",
   "metadata": {},
   "outputs": [],
   "source": []
  }
 ],
 "metadata": {
  "kernelspec": {
   "display_name": "Python 3 (ipykernel)",
   "language": "python",
   "name": "python3"
  },
  "language_info": {
   "codemirror_mode": {
    "name": "ipython",
    "version": 3
   },
   "file_extension": ".py",
   "mimetype": "text/x-python",
   "name": "python",
   "nbconvert_exporter": "python",
   "pygments_lexer": "ipython3",
   "version": "3.11.4"
  }
 },
 "nbformat": 4,
 "nbformat_minor": 5
}
